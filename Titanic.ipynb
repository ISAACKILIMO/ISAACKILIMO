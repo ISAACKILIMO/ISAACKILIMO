{
 "cells": [
  {
   "cell_type": "code",
   "execution_count": 13,
   "metadata": {},
   "outputs": [],
   "source": [
    "import joblib\n",
    "import streamlit as st"
   ]
  },
  {
   "cell_type": "code",
   "execution_count": 14,
   "metadata": {},
   "outputs": [],
   "source": [
    "model1=joblib.load('model.pkl')\n",
    "def prediction_generator( Pclass, Sex, Age, SibSp,\n",
    "       Parch, Fare, Embarked):\n",
    "    prediction=model1.predict([Pclass, Sex, Age, SibSp,Parch, Fare, Embarked])\n",
    "    if prediction==0:\n",
    "        output='did not survive'\n",
    "    else:\n",
    "        output='survived'\n",
    "    return output\n",
    "\n",
    "                    \n"
   ]
  },
  {
   "cell_type": "code",
   "execution_count": 15,
   "metadata": {},
   "outputs": [],
   "source": [
    "def main():\n",
    "    st.title('Titanic Survival App')\n",
    "    Pclass=float(st.number_input('Pclass'))\n",
    "    Sex=float(st.number_input('Sex'))\n",
    "    Age=float(st.number_input('Age'))\n",
    "    Sibsp=float(st.number_input('Sibsp'))\n",
    "    Parch=float(st.number_input('Parch'))\n",
    "    Fare=float(st.number_input('Fare'))\n",
    "    Embarked=float(st.number_input('Embarked'))\n",
    "    \n",
    "    result=''\n",
    "    if st.button('Predict'):\n",
    "        result=prediction_generator( Pclass, Sex, Age, SibSp,\n",
    "       Parch, Fare, Embarked)\n",
    "        st.Sucess(f'The person{result}')\n",
    "        "
   ]
  },
  {
   "cell_type": "code",
   "execution_count": 16,
   "metadata": {},
   "outputs": [
    {
     "name": "stderr",
     "output_type": "stream",
     "text": [
      "2021-09-25 17:04:18.894 \n",
      "  \u001b[33m\u001b[1mWarning:\u001b[0m to view this Streamlit app on a browser, run it with the following\n",
      "  command:\n",
      "\n",
      "    streamlit run C:\\Users\\user\\Anaconda3\\lib\\site-packages\\ipykernel_launcher.py [ARGUMENTS]\n"
     ]
    }
   ],
   "source": [
    "if __name__=='__main__':\n",
    "    main()"
   ]
  }
 ],
 "metadata": {
  "kernelspec": {
   "display_name": "Python 3",
   "language": "python",
   "name": "python3"
  },
  "language_info": {
   "codemirror_mode": {
    "name": "ipython",
    "version": 3
   },
   "file_extension": ".py",
   "mimetype": "text/x-python",
   "name": "python",
   "nbconvert_exporter": "python",
   "pygments_lexer": "ipython3",
   "version": "3.8.5"
  }
 },
 "nbformat": 4,
 "nbformat_minor": 4
}
